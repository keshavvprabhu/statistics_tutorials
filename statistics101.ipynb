{
  "nbformat": 4,
  "nbformat_minor": 0,
  "metadata": {
    "colab": {
      "provenance": [],
      "authorship_tag": "ABX9TyMB1Jkol0IhgbG/Q7zMrdNj",
      "include_colab_link": true
    },
    "kernelspec": {
      "name": "python3",
      "display_name": "Python 3"
    },
    "language_info": {
      "name": "python"
    }
  },
  "cells": [
    {
      "cell_type": "markdown",
      "metadata": {
        "id": "view-in-github",
        "colab_type": "text"
      },
      "source": [
        "<a href=\"https://colab.research.google.com/github/keshavvprabhu/statistics_tutorials/blob/main/statistics101.ipynb\" target=\"_parent\"><img src=\"https://colab.research.google.com/assets/colab-badge.svg\" alt=\"Open In Colab\"/></a>"
      ]
    },
    {
      "cell_type": "markdown",
      "source": [
        "# What is Statistics?\n",
        "\n",
        "Statistics is the science of collecting, organizing and analyzing data"
      ],
      "metadata": {
        "id": "GcrAfSw1Kpm9"
      }
    },
    {
      "cell_type": "markdown",
      "source": [
        "# Standard Deviation\n",
        "\n",
        "Standard Deviation is used to measure the ***spread*** of values in a sample. We can use the belof formula to calculate the Standard Deviation of a given sample:\n",
        "\n",
        "\\begin{align}\n",
        "σ = \\sqrt \\frac{\\sum_{i=1}^n (x_i - \\bar{x})^2}{n-1}\n",
        "\\end{align}\n",
        "\n",
        "where: \n",
        "\n",
        "$x_i$ = each sample, $n$ = sample size, $\\bar{x}$ = sample mean\n",
        "\n",
        "\n",
        "\n",
        "A Standard Deviation cannot be good or bad because it simply tells us how spread out the values are in a sample.\n",
        "\n",
        "\n",
        "\n",
        "### Note:\n",
        "\n",
        "The higher the value of standard deviation, the more spread out the values are in a sample. Conversely, the lower the value for the standard deviation, the more tightly packed together the values.\n",
        "\n",
        "Why is the Standard Deviation important?\n",
        "Standard deviation is important because it tells us how spread out the values are in a given dataset.\n",
        "\n",
        "Whenever we analyze the dataset we are interested in finding out the following metrics:\n",
        "\n",
        "* The center of the dataset\n",
        "* The spread of the values in the dataset\n",
        "\n",
        "By knowing where the center is located and how spread out the values are, we can gain a good understanding of the distribution of values in any dataset\n",
        "\n",
        "\n",
        "## Visualization\n",
        "Box plots are a good way to visualize the standard distribution of a dataset\n",
        "\n",
        "## Coefficient of Variation\n",
        "One way to determine if a standard deviation is high is to compare it to the mean of the dataset\n",
        "\n",
        "A coefficient of variation ($C_v$) is a way to measure how spread out the values are in a dataset relative to the mean. It's calculated as:\n",
        "\n",
        "\\begin{align}\n",
        "    C_v = \\frac{\\sigma}{\\bar{x}}\n",
        "\\end{align}\n",
        "\n",
        "where:\n",
        "\n",
        "$s$ = standard deviation; \n",
        "\n",
        "$\\bar{x}$ = mean of dataset\n",
        "\n",
        "## Variance\n",
        "\n",
        "Variance = $\\sigma ^ 2$\n",
        "\n"
      ],
      "metadata": {
        "id": "pRrxAtGCyils"
      }
    },
    {
      "cell_type": "code",
      "execution_count": null,
      "metadata": {
        "id": "zDoSMfguyeZV"
      },
      "outputs": [],
      "source": [
        "import math\n",
        "import statistics"
      ]
    },
    {
      "cell_type": "code",
      "source": [
        "list_numbers = (1,10,100,1000,10000)\n",
        "sample_size = len(list_numbers)\n",
        "sample_mean = statistics.mean(list_numbers)\n",
        "print(f\"List of Numbers: {list_numbers}\")\n",
        "print(f\"Sample Size: {sample_size}\")\n",
        "print(f\"Mean of the Sample: {sample_mean}\")\n",
        "\n",
        "sum = 0\n",
        "for number in list_numbers:\n",
        "    sum +=(number - sample_mean)**2\n",
        "\n",
        "std_dev = math.sqrt(sum/(sample_size - 1))\n",
        "print(f\"Calculated Standard Deviation: {std_dev}\")\n",
        "print(f\"Actual Standard Deviation: {statistics.stdev(list_numbers)}\")\n",
        "print(f\"Coefficient of Variance: {std_dev/sample_mean}\")"
      ],
      "metadata": {
        "colab": {
          "base_uri": "https://localhost:8080/"
        },
        "id": "X-yXyuWZyiEI",
        "outputId": "00fde258-3382-4447-b6c1-d4fe19b4c2e3"
      },
      "execution_count": null,
      "outputs": [
        {
          "output_type": "stream",
          "name": "stdout",
          "text": [
            "List of Numbers: (1, 10, 100, 1000, 10000)\n",
            "Sample Size: 5\n",
            "Mean of the Sample: 2222.2\n",
            "Calculated Standard Deviation: 4368.044093184042\n",
            "Actual Standard Deviation: 4368.044093184042\n",
            "Coefficient of Variance: 1.9656394983278025\n"
          ]
        }
      ]
    },
    {
      "cell_type": "markdown",
      "source": [
        "# Mean\n",
        "\\begin{align}\n",
        "Mean  = \\frac{sum of all numbers}{count of numbers}\n",
        "\\end{align}\n",
        "\n",
        "Mathematically, it can also be written as\n",
        "\n",
        "\\begin{align}\n",
        "    \\bar{x} = \\frac{\\sum_{i=1}^n x_i} {n}\n",
        "\\end{align}\n",
        "\n",
        "\n",
        "\n",
        "# Median\n",
        "\n",
        "To find the median you need to do the following:\n",
        "1. Sort the data \n",
        "2. If the number of items is odd pick the middle number \n",
        "3. If the number of items is even then average the middle numbers\n",
        "\n",
        "# Mode\n",
        "Mode is simply the number that appears most in teh sample in terms of repetition\n",
        "\n",
        "\n",
        "# Range\n",
        "Range = largest number - smallest number\n",
        "\n",
        "\n",
        "# Midrange\n",
        "Midrange = (Largest Number + Smallest Number) / 2"
      ],
      "metadata": {
        "id": "OIjMmDJQmFuI"
      }
    },
    {
      "cell_type": "markdown",
      "source": [
        "# Mean\n",
        "\n",
        "Let us illustrate it with an example  "
      ],
      "metadata": {
        "id": "5CRiZwCcoUaS"
      }
    },
    {
      "cell_type": "code",
      "source": [
        " list_numbers =  (45, 98, 35, 96, 42, 39, 41, 41, 25, 63, 69, 75, 64, 15, 9, 8, 2, 49, 35, 68, 97, 94, 31, 13, 99 ) \n",
        "# list_numbers = (45, 98, 35, 96, 58)"
      ],
      "metadata": {
        "id": "UT13KjnooT4A"
      },
      "execution_count": null,
      "outputs": []
    },
    {
      "cell_type": "code",
      "source": [
        "total = 0\n",
        "for i in list_numbers:\n",
        "    total += i\n",
        "\n",
        "calculated_mean = total / len(list_numbers)\n",
        "print(f\"Calculated Mean: {calculated_mean}\")\n",
        "\n",
        "print(f\"Actual Mean: {statistics.mean(list_numbers)}\")"
      ],
      "metadata": {
        "colab": {
          "base_uri": "https://localhost:8080/"
        },
        "id": "vk0LKxLOmFA3",
        "outputId": "a7bfbc51-ec78-4765-e1a1-2831c6403b7b"
      },
      "execution_count": null,
      "outputs": [
        {
          "output_type": "stream",
          "name": "stdout",
          "text": [
            "Calculated Mean: 50.12\n",
            "Actual Mean: 50.12\n"
          ]
        }
      ]
    },
    {
      "cell_type": "markdown",
      "source": [
        "# Median \n",
        "Let us illustrate it with the example below"
      ],
      "metadata": {
        "id": "LBOtlyyyp6WV"
      }
    },
    {
      "cell_type": "code",
      "source": [
        "sorted_numbers = sorted(list_numbers)\n",
        "print(f\"Sorted List: {sorted_numbers}\")\n",
        "sample_size = len(list_numbers)\n",
        "print(f\"Size : {sample_size}\")\n",
        "\n",
        "if sample_size % 2 == 0:\n",
        "    mid_point = sample_size//2\n",
        "    median = (sorted_numbers[mid_point - 1] + sorted_numbers[mid_point])/2\n",
        "    print(f\"Calculated Median: {median}\")\n",
        "else:\n",
        "    mid_point = sample_size//2\n",
        "    median = sorted_numbers[mid_point]\n",
        "    print(f\"Calculated Median: {median}\")\n",
        "\n",
        "print(f\"Actual Median: {statistics.median(sorted_numbers)}\")"
      ],
      "metadata": {
        "colab": {
          "base_uri": "https://localhost:8080/"
        },
        "id": "qI5ehpfqp5eH",
        "outputId": "02f8528b-2132-4642-f8b8-17af2d026229"
      },
      "execution_count": null,
      "outputs": [
        {
          "output_type": "stream",
          "name": "stdout",
          "text": [
            "Sorted List: [2, 8, 9, 13, 15, 25, 31, 35, 35, 39, 41, 41, 42, 45, 49, 63, 64, 68, 69, 75, 94, 96, 97, 98, 99]\n",
            "Size : 25\n",
            "Calculated Median: 42\n",
            "Actual Median: 42\n"
          ]
        }
      ]
    },
    {
      "cell_type": "markdown",
      "source": [
        "# Mode\n",
        "Let us illustrate with an example below\n"
      ],
      "metadata": {
        "id": "RlE6lTZ_viVE"
      }
    },
    {
      "cell_type": "code",
      "source": [
        "from collections import Counter\n",
        "dict_output = Counter(sorted_numbers)\n",
        "\n",
        "print(f\"Dataset : {sorted_numbers}\")\n",
        "max_value = 0\n",
        "for k,v in dict_output.items():\n",
        "    if v > max_value:\n",
        "        max_value = v\n",
        "\n",
        "list_modes = list()\n",
        "for k,v in dict_output.items():\n",
        "    if v == max_value:\n",
        "        list_modes.append(k)\n",
        "\n",
        "if len(list_modes) == len(sorted_numbers):\n",
        "    print(\"There are no modes\")\n",
        "else:    \n",
        "    print(f\"Calculated Mode: {list_modes}\")\n"
      ],
      "metadata": {
        "colab": {
          "base_uri": "https://localhost:8080/"
        },
        "id": "uWUbpHp_vr7i",
        "outputId": "c8e98a06-a292-49c6-c4f6-541468531b48"
      },
      "execution_count": null,
      "outputs": [
        {
          "output_type": "stream",
          "name": "stdout",
          "text": [
            "Dataset : [2, 8, 9, 13, 15, 25, 31, 35, 35, 39, 41, 41, 42, 45, 49, 63, 64, 68, 69, 75, 94, 96, 97, 98, 99]\n",
            "Calculated Mode: [35, 41]\n"
          ]
        }
      ]
    },
    {
      "cell_type": "markdown",
      "source": [
        "# Range\n",
        "Let us look at the example"
      ],
      "metadata": {
        "id": "iywRWsrE4OGY"
      }
    },
    {
      "cell_type": "code",
      "source": [
        "print(f\"Dataset : {sorted_numbers}\")\n",
        "\n",
        "largest = max(sorted_numbers)\n",
        "smallest = min(sorted_numbers)\n",
        "\n",
        "calculated_range = largest - smallest \n",
        "\n",
        "print(f\"Calculated Range: {calculated_range}\")"
      ],
      "metadata": {
        "colab": {
          "base_uri": "https://localhost:8080/"
        },
        "id": "IuwzTUIz4P77",
        "outputId": "93dac68e-a9a7-40cf-ce96-768613f99a5d"
      },
      "execution_count": null,
      "outputs": [
        {
          "output_type": "stream",
          "name": "stdout",
          "text": [
            "Dataset : [2, 8, 9, 13, 15, 25, 31, 35, 35, 39, 41, 41, 42, 45, 49, 63, 64, 68, 69, 75, 94, 96, 97, 98, 99]\n",
            "Calculated Range: 97\n"
          ]
        }
      ]
    },
    {
      "cell_type": "markdown",
      "source": [
        "# Midrange"
      ],
      "metadata": {
        "id": "M8s-d6w94mIl"
      }
    },
    {
      "cell_type": "code",
      "source": [
        "print(f\"Dataset : {sorted_numbers}\")\n",
        "\n",
        "largest = max(sorted_numbers)\n",
        "smallest = min(sorted_numbers)\n",
        "\n",
        "calculated_midrange = (largest + smallest) / 2\n",
        "\n",
        "print(f\"Calculated Range: {calculated_midrange}\")"
      ],
      "metadata": {
        "colab": {
          "base_uri": "https://localhost:8080/"
        },
        "id": "zOpWCYWW4po3",
        "outputId": "0282c2bd-e769-465b-883d-c5df13306fa2"
      },
      "execution_count": null,
      "outputs": [
        {
          "output_type": "stream",
          "name": "stdout",
          "text": [
            "Dataset : [2, 8, 9, 13, 15, 25, 31, 35, 35, 39, 41, 41, 42, 45, 49, 63, 64, 68, 69, 75, 94, 96, 97, 98, 99]\n",
            "Calculated Range: 50.5\n"
          ]
        }
      ]
    },
    {
      "cell_type": "markdown",
      "source": [
        "# What is Confusion Matrix?\n",
        "Prediction\\Truth | Negative | Positive\n",
        "---|--- | ---\n",
        "False|False Negative | False Positive\n",
        "True|True Negative | True Positive\n",
        "\n",
        "\n",
        "Precision and Recall are metrics which allows us to verify the quality of our classification model.\n",
        "\n",
        "\n",
        "# What is Accuracy?\n",
        "Mathematically, it can be written as follows:\n",
        "\\begin{align}\n",
        "A = \\frac{TP}{TP+FP+TN+FN}\n",
        "\\end{align}\n",
        "The issue with the accuracy metric is that if the dataset is not balanced you could get skewed results that are not\n",
        "\n",
        "\n",
        "# What is Precision?\n",
        "Mathematically, it can be written as follows:\n",
        "\\begin{align}\n",
        "P = \\frac{TP}{TP+FP}\n",
        "\\end{align}\n",
        "\n",
        "\n",
        "# What is Recall?\n",
        "Mathematically, it can be written as follows:\n",
        "\\begin{align}\n",
        "P = \\frac{TP}{TP+FN}\n",
        "\\end{align}"
      ],
      "metadata": {
        "id": "-yq9Z-wPxSmr"
      }
    },
    {
      "cell_type": "markdown",
      "source": [
        "# What is Underfitting?\n",
        "Underfitting is too simplistic and the model is not able to reliably predict correctly.\n",
        "\n",
        "\n",
        "# What is Overfitting?\n",
        "Over fitting is considered too good to be true. The model may behave perfectly during training but when it actually in production it could not yield reliable results"
      ],
      "metadata": {
        "id": "5MK2gU-B06G4"
      }
    },
    {
      "cell_type": "code",
      "source": [],
      "metadata": {
        "id": "Ax5o-DsN0T3o"
      },
      "execution_count": null,
      "outputs": []
    }
  ]
}