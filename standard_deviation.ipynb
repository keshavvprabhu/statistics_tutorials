{
  "nbformat": 4,
  "nbformat_minor": 0,
  "metadata": {
    "colab": {
      "provenance": [],
      "name": "standard_deviation.ipynb",
      "authorship_tag": "ABX9TyM+BerWgBkLMv3QB6eb+2we",
      "include_colab_link": true
    },
    "kernelspec": {
      "name": "python3",
      "display_name": "Python 3"
    },
    "language_info": {
      "name": "python"
    }
  },
  "cells": [
    {
      "cell_type": "markdown",
      "metadata": {
        "id": "view-in-github",
        "colab_type": "text"
      },
      "source": [
        "<a href=\"https://colab.research.google.com/github/keshavvprabhu/statistics_tutorials/blob/main/standard_deviation.ipynb\" target=\"_parent\"><img src=\"https://colab.research.google.com/assets/colab-badge.svg\" alt=\"Open In Colab\"/></a>"
      ]
    },
    {
      "cell_type": "markdown",
      "source": [
        "# What is Standard Deviation?\n",
        "\n",
        "Standard Deviation is used to measure the ***spread*** of values in a sample. We can use the belof formula to calculate the Standard Deviation of a given sample:\n",
        "\n",
        "\\begin{align}\n",
        "s = \\sqrt \\frac{\\sum_{i=1}^n (x_i - \\bar{x})^2}{n-1}\n",
        "\\end{align}\n",
        "\n",
        "where: \n",
        "\n",
        "$x_i$ = each sample, $n$ = sample size, $\\bar{x}$ = sample mean\n",
        "\n",
        "\n",
        "\n",
        "A Standard Deviation cannot be good or bad because it simply tells us how spread out the values are in a sample.\n",
        "\n",
        "The higher the value of standard deviation, the more spread out the values are in a sample. Conversely, the lower the value for the standard deviation, the more tightly packed the values are relative to each other.\n",
        "\n",
        "\n",
        "# Why is the Standard Deviation important?\n",
        "\n",
        "Standard deviation is important because it tells us how spread out the values are in a given dataset.\n",
        "\n",
        "Whenever we analyze the dataset we are interested in finding out the following metrics:\n",
        "\n",
        "* The center of the dataset\n",
        "* The spread of the values in the dataset\n",
        "\n",
        "By knowing where the center is located and how spread out the values are, we can gain a good understanding of the distribution of values in any dataset\n",
        "\n",
        "\n",
        "## Visualization\n",
        "Box plots are a good way to visualize the standard distribution of a dataset\n",
        "\n",
        "## Coefficient of Variation\n",
        "One way to determine if a standard deviation is high is to compare it to the mean of the dataset\n",
        "\n",
        "A coefficient of variation ($C_v$) is a way to measure how spread out the values are in a dataset relative to the mean. It's calculated as:\n",
        "\n",
        "\\begin{align}\n",
        "    C_v = \\frac{s}{\\bar{x}}\n",
        "\\end{align}\n",
        "\n",
        "where:\n",
        "\n",
        "$s$ = standard deviation; \n",
        "\n",
        "$\\bar{x}$ = mean of dataset\n",
        "\n",
        "When the $C_v > 1$, it is an indication that the dataset is widely spread \n",
        "\n"
      ],
      "metadata": {
        "id": "pRrxAtGCyils"
      }
    },
    {
      "cell_type": "code",
      "execution_count": null,
      "metadata": {
        "id": "zDoSMfguyeZV"
      },
      "outputs": [],
      "source": [
        "import math\n",
        "import statistics"
      ]
    },
    {
      "cell_type": "code",
      "source": [
        "list_numbers = (1,10,100,1000,10000)\n",
        "sample_size = len(list_numbers)\n",
        "sample_mean = statistics.mean(list_numbers)\n",
        "print(f\"List of Numbers: {list_numbers}\")\n",
        "print(f\"Sample Size: {sample_size}\")\n",
        "print(f\"Mean of the Sample: {sample_mean}\")\n",
        "\n",
        "sum = 0\n",
        "for number in list_numbers:\n",
        "    sum +=(number - sample_mean)**2\n",
        "\n",
        "std_dev = math.sqrt(sum/(sample_size - 1))\n",
        "print(f\"Calculated Standard Deviation: {std_dev}\")\n",
        "print(f\"Actual Standard Deviation: {statistics.stdev(list_numbers)}\")\n",
        "print(f\"Coefficient of Variance: {std_dev/sample_mean}\")"
      ],
      "metadata": {
        "colab": {
          "base_uri": "https://localhost:8080/"
        },
        "id": "X-yXyuWZyiEI",
        "outputId": "0b74eee3-fc56-4263-d20e-460a4ed294b2"
      },
      "execution_count": null,
      "outputs": [
        {
          "output_type": "stream",
          "name": "stdout",
          "text": [
            "List of Numbers: (1, 10, 100, 1000, 10000)\n",
            "Sample Size: 5\n",
            "Mean of the Sample: 2222.2\n",
            "Calculated Standard Deviation: 4368.044093184042\n",
            "Actual Standard Deviation: 4368.044093184042\n",
            "Coefficient of Variance: 1.9656394983278025\n"
          ]
        }
      ]
    }
  ]
}